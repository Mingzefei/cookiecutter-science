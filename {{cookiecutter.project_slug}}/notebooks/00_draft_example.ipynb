{
 "cells": [
  {
   "cell_type": "code",
   "execution_count": null,
   "metadata": {},
   "outputs": [],
   "source": [
    "# FILE: notebooks/00_draft_example.ipynb\n",
    "# magics and search path for notebooks\n",
    "%load_ext autoreload\n",
    "%autoreload 2\n",
    "import sys\n",
    "sys.path.append('..') # to find scripts"
   ]
  },
  {
   "cell_type": "code",
   "execution_count": null,
   "metadata": {},
   "outputs": [],
   "source": [
    "from {{cookiecutter.project_slug}}.data.clean_data import clean_data\n",
    "from {{cookiecutter.project_slug}}.utils.file_io import read_csv, write_csv\n",
    "\n",
    "from scripts import paths\n",
    "from scripts.config_loader import load_config\n",
    "from scripts import data_downloader"
   ]
  },
  {
   "cell_type": "code",
   "execution_count": null,
   "metadata": {},
   "outputs": [],
   "source": [
    "%run ../scripts/clean.py --data"
   ]
  },
  {
   "cell_type": "code",
   "execution_count": null,
   "metadata": {},
   "outputs": [],
   "source": [
    "# load config\n",
    "config = load_config(paths.config_dir / 'config.yaml')\n",
    "config['data']"
   ]
  },
  {
   "cell_type": "code",
   "execution_count": null,
   "metadata": {},
   "outputs": [],
   "source": [
    "data_downloader.download_data_from_config(paths.config_dir / 'config.yaml')"
   ]
  },
  {
   "cell_type": "code",
   "execution_count": null,
   "metadata": {},
   "outputs": [],
   "source": [
    "# read raw data\n",
    "raw_data_file = paths.data_raw_dir / 'example_raw_data.csv'\n",
    "raw_data = read_csv(raw_data_file)\n",
    "\n",
    "# clean data\n",
    "cleaned_data = clean_data(raw_data)\n",
    "\n",
    "# write cleaned data\n",
    "interim_data_file = paths.data_interim_dir / 'cleaned_data.csv'\n",
    "write_csv(cleaned_data, interim_data_file)"
   ]
  },
  {
   "cell_type": "code",
   "execution_count": null,
   "metadata": {},
   "outputs": [],
   "source": []
  }
 ],
 "metadata": {
  "kernelspec": {
   "display_name": ".venv",
   "language": "python",
   "name": "python3"
  },
  "language_info": {
   "codemirror_mode": {
    "name": "ipython",
    "version": 3
   },
   "file_extension": ".py",
   "mimetype": "text/x-python",
   "name": "python",
   "nbconvert_exporter": "python",
   "pygments_lexer": "ipython3",
   "version": "3.10.13"
  }
 },
 "nbformat": 4,
 "nbformat_minor": 2
}
